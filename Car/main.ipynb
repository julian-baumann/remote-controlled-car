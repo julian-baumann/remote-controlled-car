{
 "cells": [
  {
   "attachments": {},
   "cell_type": "markdown",
   "metadata": {},
   "source": [
    "# Remote Controlled Car\n"
   ]
  },
  {
   "cell_type": "code",
   "execution_count": 5,
   "metadata": {
    "vscode": {
     "languageId": "python"
    }
   },
   "outputs": [
    {
     "name": "stdout",
     "output_type": "stream",
     "text": [
      "serial exception on close write failed: [Errno 6] Device not configured\n",
      "Found serial ports: /dev/cu.SLAB_USBtoUART, /dev/cu.usbserial-0001, /dev/cu.Bluetooth-Incoming-Port, /dev/cu.OnkyoCR-265 \n",
      "\u001b[34mConnecting to --port=/dev/cu.SLAB_USBtoUART --baud=115200 \u001b[0m\n",
      "\u001b[34mReady.\n",
      "\u001b[0m"
     ]
    }
   ],
   "source": [
    "%serialconnect"
   ]
  },
  {
   "cell_type": "code",
   "execution_count": 6,
   "metadata": {
    "vscode": {
     "languageId": "python"
    }
   },
   "outputs": [],
   "source": [
    "import uasyncio as asyncio\n",
    "import aioble\n",
    "from bluetooth import UUID\n",
    "import struct\n",
    "\n",
    "# Because MicroPython doesn't even support fucking enums :(\n",
    "NoAcceleration = 0\n",
    "ForwardAcceleration = 1\n",
    "BackwardAcceleration = 2\n",
    "\n",
    "class BLESteeringServer:\n",
    "    # For further information, see https://developer.nordicsemi.com/nRF5_SDK/nRF51_SDK_v4.x.x/doc/html/group___b_l_e___a_p_p_e_a_r_a_n_c_e_s.html\n",
    "    GATT_APPEARANCE = 128\n",
    "    NAME = \"Remote Car\"\n",
    "\n",
    "    STEERING_SERVICE_UUID = UUID(\"B742662E-6D94-43BD-B257-8077D259EE5E\")\n",
    "    ROTATION_CHARACTERISTIC_UUID = UUID(\"16623586-A80C-4092-8042-652F934B8167\")\n",
    "    ACCELERATION_CHARACTERISTIC_UUID = UUID(\"D4C3EA03-F05A-41B2-B8AA-B5C8DB0ACD26\")\n",
    "\n",
    "    ADVERTISING_INTERVAL_MILLISECONDS = 250_000\n",
    "\n",
    "    def __init__(self):\n",
    "        self.deviceConnected = False\n",
    "        self.connection = None\n",
    "\n",
    "        self.gattSteeringService = aioble.Service(self.STEERING_SERVICE_UUID)\n",
    "        self.registerCharacteristics()\n",
    "\n",
    "\n",
    "    def registerCharacteristics(self):\n",
    "        self.rotationCharacteristic = aioble.Characteristic(\n",
    "            self.gattSteeringService,\n",
    "            self.ROTATION_CHARACTERISTIC_UUID,\n",
    "            read=True,\n",
    "            write=True\n",
    "        )\n",
    "\n",
    "        self.accelerationCharacteristic = aioble.Characteristic(\n",
    "            self.gattSteeringService,\n",
    "            self.ACCELERATION_CHARACTERISTIC_UUID,\n",
    "            read=True,\n",
    "            write=True\n",
    "        )\n",
    "\n",
    "        aioble.register_services(self.gattSteeringService)\n",
    "\n",
    "    # Because of \"reasons\", once connected to a central device, self.connection.is_connected() will never return False, even when the device is already disconnected\n",
    "    # This represents a crutial part of the python community. Everyone botches the hell out of it and nothing works as it should...\n",
    "    def isConnected(self) -> bool:\n",
    "        if self.connection is not None:\n",
    "            test = self.connection.is_connected()\n",
    "            return test\n",
    "        \n",
    "        return False\n",
    "    \n",
    "    \n",
    "    # Julian: And now we return an enum to indicates the direction\n",
    "    # Python: Enums??!! Nope!\n",
    "    # Julian: But that's good code style, it makes the code way more readable\n",
    "    # Python: Fuck you and your fancy code styles, just return an integer and let the user guess what values are possible\n",
    "    def getAccelerationDirection(self) -> int:\n",
    "        return int.from_bytes(self.accelerationCharacteristic.read(), \"little\")\n",
    "    \n",
    "    \n",
    "    def getRotation(self) -> int:\n",
    "        return (int.from_bytes(self.rotationCharacteristic.read(), \"little\") - 100) * -1\n",
    "\n",
    "    async def advertiseAndWaitForConnection(self):\n",
    "        self.deviceConnected = self.isConnected()\n",
    "\n",
    "        if self.deviceConnected is False:\n",
    "            self.connection = await aioble.advertise(\n",
    "                self.ADVERTISING_INTERVAL_MILLISECONDS,\n",
    "                name=self.NAME,\n",
    "                services=[self.STEERING_SERVICE_UUID],\n",
    "                appearance=self.GATT_APPEARANCE,\n",
    "            )\n",
    "            self.deviceConnected = True"
   ]
  },
  {
   "cell_type": "code",
   "execution_count": 7,
   "metadata": {
    "vscode": {
     "languageId": "python"
    }
   },
   "outputs": [],
   "source": [
    "# https://github.com/a-fuchs/WPFInformatik/blob/main/jupyter/300_PowerAmplifier_L9110/SimpleCar.ipynb\n",
    "\n",
    "import machine\n",
    "\n",
    "class Motor :\n",
    "    def __init__( self, \n",
    "            pinA, \n",
    "            pinB,\n",
    "            frequency     = 1000,\n",
    "            dutyMinLeft   =    0,  # Duty for speed = 0:              motor turns left\n",
    "            dutyMaxLeft   = 1023,  # Duty for speed = fSpeedMaxLeft:  motor turns left\n",
    "            dutyMinRight  =    0,  # Duty for speed = 0:              motor turns right\n",
    "            dutyMaxRight  = 1023,  # Duty for speed = fSpeedMaxRight: motor turns right\n",
    "            speedMaxLeft  = -1.0,  # Minimal value for setSpeed() --> iDutyMaxLeft\n",
    "            speedMaxRight =  1.0   # Maximal value for setSpeed() --> iDutyMaxRight\n",
    "        ):\n",
    "        self._iFrequency    = frequency\n",
    "        self._fScaleLeft    = (dutyMaxLeft  - dutyMinLeft )/speedMaxLeft\n",
    "        self._fScaleRight   = (dutyMaxRight - dutyMinRight)/speedMaxRight\n",
    "        self._iDutyMinLeft  = dutyMinLeft\n",
    "        self._iDutyMaxLeft  = dutyMaxLeft\n",
    "        self._iDutyMinRight = dutyMinRight\n",
    "        self._iDutyMaxRight = dutyMaxRight\n",
    "        \n",
    "        self._fCurSpeed     = 0\n",
    "        \n",
    "        self._pwmA = machine.PWM(machine.Pin(pinA), freq=self._iFrequency, duty=0)\n",
    "        self._pwmB = machine.PWM(machine.Pin(pinB), freq=self._iFrequency, duty=0)\n",
    "        \n",
    "        self._pwmDir   = self._pwmA\n",
    "        self._pwmSpeed = self._pwmB\n",
    "        \n",
    "    def speedToDuty(self, _fSpeed):\n",
    "        if _fSpeed == 0:\n",
    "            return 0\n",
    "        elif _fSpeed < 0:\n",
    "            return int(self._iDutyMinLeft  + _fSpeed * self._fScaleLeft + 0.5)\n",
    "        else :\n",
    "            return int(self._iDutyMinRight + _fSpeed * self._fScaleRight + 0.5)\n",
    "            \n",
    "    \n",
    "    def setLeft(self):\n",
    "        self._pwmDir = self._pwmA\n",
    "        self._pwmDir.duty(0)\n",
    "        self._pwmSpeed = self._pwmB\n",
    "    \n",
    "    def setRight(self):\n",
    "        self._pwmDir   = self._pwmB\n",
    "        self._pwmDir.duty(0)\n",
    "        self._pwmSpeed = self._pwmA\n",
    "    \n",
    "    def setSpeed(self, _fSpeed):\n",
    "        if _fSpeed != self._fCurSpeed:\n",
    "            iDuty = self.speedToDuty(_fSpeed)\n",
    "                \n",
    "            if _fSpeed > 0 and self._fCurSpeed <= 0 :\n",
    "                self.setLeft()\n",
    "\n",
    "            elif _fSpeed < 0 and self._fCurSpeed >= 0 :\n",
    "                self.setRight()\n",
    "        \n",
    "            self._pwmSpeed.duty(iDuty)\n",
    "        \n",
    "        self._fCurSpeed = _fSpeed"
   ]
  },
  {
   "cell_type": "code",
   "execution_count": 8,
   "metadata": {
    "vscode": {
     "languageId": "python"
    }
   },
   "outputs": [
    {
     "name": "stdout",
     "output_type": "stream",
     "text": [
      "......................................................\u001b[34m\n",
      "\n",
      "*** Sending Ctrl-C\n",
      "\n",
      "\u001b[0m"
     ]
    },
    {
     "name": "stderr",
     "output_type": "stream",
     "text": [
      "Traceback (most recent call last):\n",
      "  File \"<stdin>\", line 86, in <module>\n",
      "  File \"uasyncio/core.py\", line 1, in run\n",
      "  File \"uasyncio/core.py\", line 1, in run_until_complete\n",
      "  File \"<stdin>\", line 82, in main\n",
      "KeyboardInterrupt: \n"
     ]
    }
   ],
   "source": [
    "import display\n",
    "\n",
    "screen = display.Display()\n",
    "\n",
    "leftMotor = Motor(\n",
    "    14,\n",
    "    26,\n",
    "    frequency = 300,\n",
    "    dutyMinLeft = 0,\n",
    "    dutyMaxLeft = 1023,\n",
    "    dutyMinRight = 0,\n",
    "    dutyMaxRight = 1023,\n",
    "    speedMaxLeft = -1.0,\n",
    "    speedMaxRight =  1.0\n",
    ")\n",
    "\n",
    "rightMotor = Motor(\n",
    "    13,\n",
    "    12,\n",
    "    frequency = 300,\n",
    "    dutyMinLeft = 0,\n",
    "    dutyMaxLeft = 1023,\n",
    "    dutyMinRight = 0,\n",
    "    dutyMaxRight = 1023,\n",
    "    speedMaxLeft = -1.0,\n",
    "    speedMaxRight =  1.0\n",
    ")\n",
    "\n",
    "bleServer = BLESteeringServer()\n",
    "\n",
    "# In real programming languages, the \"direction\" parameter wouldn't be an integer, but rather an enum.\n",
    "def getSpeed(left: bool, rotation: int, direction: int) -> int:\n",
    "    directionMultiplier = 1 if direction is ForwardAcceleration else -1\n",
    "\n",
    "    if left and rotation <= 0:\n",
    "        return (1 - (abs(rotation) / 100)) * directionMultiplier\n",
    "\n",
    "    elif left and rotation >= 0:\n",
    "        return 1 * directionMultiplier\n",
    "    \n",
    "    elif not left and rotation > 0:\n",
    "        return (1 - (abs(rotation) / 100)) * directionMultiplier\n",
    "    \n",
    "    else:\n",
    "        return 1 * directionMultiplier\n",
    "\n",
    "\n",
    "# Because of \"reasons\", this program will hang indefinitely, once the BLE connection is lost...\n",
    "# Great BLE library! -1 out of 10 stars for functionality, but lets give them 5 stars for their effort.\n",
    "async def main():\n",
    "    global screen, bleServer, leftMotor\n",
    "\n",
    "    while True:\n",
    "        if not bleServer.isConnected():\n",
    "            screen.text(\"Waiting for\", 0, 0)\n",
    "            screen.text(\"connection\", 0, 20)\n",
    "            screen.show()\n",
    "\n",
    "        await bleServer.advertiseAndWaitForConnection()\n",
    "\n",
    "        currentAccelerationDirection = bleServer.getAccelerationDirection()\n",
    "        currentRotation = bleServer.getRotation()\n",
    "\n",
    "        if currentAccelerationDirection is not ForwardAcceleration and not BackwardAcceleration:\n",
    "            leftMotor.setLeft(0)\n",
    "            rightMotor.setSpeed(0)\n",
    "        else:\n",
    "            leftSpeed = getSpeed(True, currentRotation, currentAccelerationDirection)\n",
    "            rightSpeed = getSpeed(False, currentRotation, currentAccelerationDirection)\n",
    "            \n",
    "            screen.clear()\n",
    "            screen.text(\"Left: \" + str(leftSpeed), 0, 0)\n",
    "            screen.text(\"Right: \" + str(rightSpeed), 0, 20)\n",
    "\n",
    "            leftMotor.setSpeed(leftSpeed)\n",
    "            rightMotor.setSpeed(rightSpeed)\n",
    "\n",
    "        screen.show()\n",
    "\n",
    "\n",
    "\n",
    "asyncio.run(main())"
   ]
  },
  {
   "cell_type": "code",
   "execution_count": 9,
   "metadata": {
    "vscode": {
     "languageId": "python"
    }
   },
   "outputs": [
    {
     "name": "stdout",
     "output_type": "stream",
     "text": [
      "Fetched 455=455 bytes from /main.py.\n"
     ]
    }
   ],
   "source": [
    "#%fetchfile --load /main.py\n",
    "\n",
    "from machine import Pin,I2C\n",
    "import time\n",
    "import ssd1306\n",
    "try:\n",
    " i2c=I2C(1,scl=Pin(15),sda=Pin(4))\n",
    " d=ssd1306.SSD1306_I2C(128,64,i2c)\n",
    " d.fill(0)\n",
    " d.invert(0)\n",
    " d.text(\"Esp32 HelTec\",17,23,1)\n",
    " d.text(\"OLED 128x64\",20,37,1)\n",
    " d.show()\n",
    " for i in range(5):\n",
    "  time.sleep_ms(200)\n",
    "  d.invert(i%2)\n",
    " for i in range(45):\n",
    "  d.scroll(0, -1)\n",
    "  time.sleep_ms(10)\n",
    "  d.show()\n",
    "except:\n",
    " pass\n",
    "finally:\n",
    " try: del d\n",
    " except: pass\n",
    " try: del i2c\n",
    " except: pass\n",
    " import gc\n",
    " gc.collect()"
   ]
  }
 ],
 "metadata": {
  "kernelspec": {
   "display_name": "MicroPython - USB",
   "language": "micropython",
   "name": "micropython"
  },
  "language_info": {
   "codemirror_mode": "python",
   "file_extension": ".py",
   "mimetype": "text/python",
   "name": "micropython"
  },
  "orig_nbformat": 4
 },
 "nbformat": 4,
 "nbformat_minor": 2
}
