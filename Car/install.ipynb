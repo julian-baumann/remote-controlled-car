{
 "cells": [
  {
   "cell_type": "code",
   "execution_count": 3,
   "metadata": {
    "vscode": {
     "languageId": "python"
    }
   },
   "outputs": [
    {
     "name": "stdout",
     "output_type": "stream",
     "text": [
      "Sent 344 lines (12626 bytes) to aioble/server.py.\n",
      "Listing directory 'aioble'.\n",
      "      672    aioble/__init__.py\n",
      "     9951    aioble/central.py\n",
      "    18938    aioble/client.py\n",
      "     1491    aioble/core.py\n",
      "     9927    aioble/device.py\n",
      "     6798    aioble/l2cap.py\n",
      "     5515    aioble/peripheral.py\n",
      "     5500    aioble/security.py\n",
      "    12626    aioble/server.py\n"
     ]
    }
   ],
   "source": [
    "%serialconnect\n",
    "\n",
    "%sendtofile --mkdir  --source ./aioble/__init__.py aioble/__init__.py\n",
    "%sendtofile --mkdir  --source ./aioble/central.py aioble/central.py\n",
    "%sendtofile --mkdir  --source ./aioble/client.py aioble/client.py\n",
    "%sendtofile --mkdir  --source ./aioble/core.py aioble/core.py\n",
    "%sendtofile --mkdir  --source ./aioble/device.py aioble/device.py\n",
    "%sendtofile --mkdir  --source ./aioble/l2cap.py aioble/l2cap.py\n",
    "%sendtofile --mkdir  --source ./aioble/peripheral.py aioble/peripheral.py\n",
    "%sendtofile --mkdir  --source ./aioble/security.py aioble/security.py\n",
    "%sendtofile --mkdir  --source ./aioble/server.py aioble/server.py\n",
    "\n",
    "%ls aioble"
   ]
  }
 ],
 "metadata": {
  "kernelspec": {
   "display_name": "MicroPython - USB",
   "language": "micropython",
   "name": "micropython"
  },
  "language_info": {
   "codemirror_mode": "python",
   "file_extension": ".py",
   "mimetype": "text/python",
   "name": "micropython"
  },
  "orig_nbformat": 4
 },
 "nbformat": 4,
 "nbformat_minor": 2
}
